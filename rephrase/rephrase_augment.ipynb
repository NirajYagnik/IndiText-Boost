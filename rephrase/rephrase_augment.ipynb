{
  "cells": [
    {
      "cell_type": "markdown",
      "source": [
        "### Setup the installs"
      ],
      "metadata": {
        "id": "e6U41s8bjzW-"
      }
    },
    {
      "cell_type": "code",
      "source": [
        "!pip install openai\n",
        "!pip install langdetect"
      ],
      "metadata": {
        "colab": {
          "base_uri": "https://localhost:8080/"
        },
        "id": "3CZTmem3Yc30",
        "outputId": "ac53117a-8ea1-46f7-f807-2eced2cfc341"
      },
      "execution_count": null,
      "outputs": [
        {
          "output_type": "stream",
          "name": "stdout",
          "text": [
            "Looking in indexes: https://pypi.org/simple, https://us-python.pkg.dev/colab-wheels/public/simple/\n",
            "Collecting openai\n",
            "  Downloading openai-0.27.7-py3-none-any.whl (71 kB)\n",
            "\u001b[2K     \u001b[90m━━━━━━━━━━━━━━━━━━━━━━━━━━━━━━━━━━━━━━━━\u001b[0m \u001b[32m72.0/72.0 kB\u001b[0m \u001b[31m2.6 MB/s\u001b[0m eta \u001b[36m0:00:00\u001b[0m\n",
            "\u001b[?25hRequirement already satisfied: requests>=2.20 in /usr/local/lib/python3.10/dist-packages (from openai) (2.27.1)\n",
            "Requirement already satisfied: tqdm in /usr/local/lib/python3.10/dist-packages (from openai) (4.65.0)\n",
            "Collecting aiohttp (from openai)\n",
            "  Downloading aiohttp-3.8.4-cp310-cp310-manylinux_2_17_x86_64.manylinux2014_x86_64.whl (1.0 MB)\n",
            "\u001b[2K     \u001b[90m━━━━━━━━━━━━━━━━━━━━━━━━━━━━━━━━━━━━━━━━\u001b[0m \u001b[32m1.0/1.0 MB\u001b[0m \u001b[31m20.1 MB/s\u001b[0m eta \u001b[36m0:00:00\u001b[0m\n",
            "\u001b[?25hRequirement already satisfied: urllib3<1.27,>=1.21.1 in /usr/local/lib/python3.10/dist-packages (from requests>=2.20->openai) (1.26.15)\n",
            "Requirement already satisfied: certifi>=2017.4.17 in /usr/local/lib/python3.10/dist-packages (from requests>=2.20->openai) (2022.12.7)\n",
            "Requirement already satisfied: charset-normalizer~=2.0.0 in /usr/local/lib/python3.10/dist-packages (from requests>=2.20->openai) (2.0.12)\n",
            "Requirement already satisfied: idna<4,>=2.5 in /usr/local/lib/python3.10/dist-packages (from requests>=2.20->openai) (3.4)\n",
            "Requirement already satisfied: attrs>=17.3.0 in /usr/local/lib/python3.10/dist-packages (from aiohttp->openai) (23.1.0)\n",
            "Collecting multidict<7.0,>=4.5 (from aiohttp->openai)\n",
            "  Downloading multidict-6.0.4-cp310-cp310-manylinux_2_17_x86_64.manylinux2014_x86_64.whl (114 kB)\n",
            "\u001b[2K     \u001b[90m━━━━━━━━━━━━━━━━━━━━━━━━━━━━━━━━━━━━━━\u001b[0m \u001b[32m114.5/114.5 kB\u001b[0m \u001b[31m11.3 MB/s\u001b[0m eta \u001b[36m0:00:00\u001b[0m\n",
            "\u001b[?25hCollecting async-timeout<5.0,>=4.0.0a3 (from aiohttp->openai)\n",
            "  Downloading async_timeout-4.0.2-py3-none-any.whl (5.8 kB)\n",
            "Collecting yarl<2.0,>=1.0 (from aiohttp->openai)\n",
            "  Downloading yarl-1.9.2-cp310-cp310-manylinux_2_17_x86_64.manylinux2014_x86_64.whl (268 kB)\n",
            "\u001b[2K     \u001b[90m━━━━━━━━━━━━━━━━━━━━━━━━━━━━━━━━━━━━━━\u001b[0m \u001b[32m268.8/268.8 kB\u001b[0m \u001b[31m24.3 MB/s\u001b[0m eta \u001b[36m0:00:00\u001b[0m\n",
            "\u001b[?25hCollecting frozenlist>=1.1.1 (from aiohttp->openai)\n",
            "  Downloading frozenlist-1.3.3-cp310-cp310-manylinux_2_5_x86_64.manylinux1_x86_64.manylinux_2_17_x86_64.manylinux2014_x86_64.whl (149 kB)\n",
            "\u001b[2K     \u001b[90m━━━━━━━━━━━━━━━━━━━━━━━━━━━━━━━━━━━━━━\u001b[0m \u001b[32m149.6/149.6 kB\u001b[0m \u001b[31m12.2 MB/s\u001b[0m eta \u001b[36m0:00:00\u001b[0m\n",
            "\u001b[?25hCollecting aiosignal>=1.1.2 (from aiohttp->openai)\n",
            "  Downloading aiosignal-1.3.1-py3-none-any.whl (7.6 kB)\n",
            "Installing collected packages: multidict, frozenlist, async-timeout, yarl, aiosignal, aiohttp, openai\n",
            "Successfully installed aiohttp-3.8.4 aiosignal-1.3.1 async-timeout-4.0.2 frozenlist-1.3.3 multidict-6.0.4 openai-0.27.7 yarl-1.9.2\n",
            "Looking in indexes: https://pypi.org/simple, https://us-python.pkg.dev/colab-wheels/public/simple/\n",
            "Collecting langdetect\n",
            "  Downloading langdetect-1.0.9.tar.gz (981 kB)\n",
            "\u001b[2K     \u001b[90m━━━━━━━━━━━━━━━━━━━━━━━━━━━━━━━━━━━━━━\u001b[0m \u001b[32m981.5/981.5 kB\u001b[0m \u001b[31m14.0 MB/s\u001b[0m eta \u001b[36m0:00:00\u001b[0m\n",
            "\u001b[?25h  Preparing metadata (setup.py) ... \u001b[?25l\u001b[?25hdone\n",
            "Requirement already satisfied: six in /usr/local/lib/python3.10/dist-packages (from langdetect) (1.16.0)\n",
            "Building wheels for collected packages: langdetect\n",
            "  Building wheel for langdetect (setup.py) ... \u001b[?25l\u001b[?25hdone\n",
            "  Created wheel for langdetect: filename=langdetect-1.0.9-py3-none-any.whl size=993224 sha256=1aad2f8e6eb913df6e5edece16e4ed9f3f1f7e5138781ec8e4f8c434e9312a21\n",
            "  Stored in directory: /root/.cache/pip/wheels/95/03/7d/59ea870c70ce4e5a370638b5462a7711ab78fba2f655d05106\n",
            "Successfully built langdetect\n",
            "Installing collected packages: langdetect\n",
            "Successfully installed langdetect-1.0.9\n"
          ]
        }
      ]
    },
    {
      "cell_type": "markdown",
      "source": [
        "### Import libraries and get the dataframe"
      ],
      "metadata": {
        "id": "_3hGgWgckPRA"
      }
    },
    {
      "cell_type": "code",
      "execution_count": null,
      "metadata": {
        "id": "A5Oss4bjUCpw"
      },
      "outputs": [],
      "source": [
        "import pandas as pd\n",
        "from tqdm import tqdm\n",
        "from langdetect import detect"
      ]
    },
    {
      "cell_type": "code",
      "source": [
        "df = pd.read_csv('dataset.csv')"
      ],
      "metadata": {
        "id": "arr3vLYwNzC8"
      },
      "execution_count": null,
      "outputs": []
    },
    {
      "cell_type": "markdown",
      "source": [
        "### Rephrase Sentence Function"
      ],
      "metadata": {
        "id": "L0kpZYtZmXq1"
      }
    },
    {
      "cell_type": "code",
      "execution_count": null,
      "metadata": {
        "id": "T5jrOsXP1d1H"
      },
      "outputs": [],
      "source": [
        "import openai\n",
        "\n",
        "# Set your OpenAI API key\n",
        "openai.api_key = ''\n",
        "\n",
        "def rephrase_sentence(sentence, full_language):\n",
        "    \"\"\"\n",
        "    Rephrases a given sentence in the specified language using OpenAI API.\n",
        "\n",
        "    Args:\n",
        "        sentence (str): The sentence to be rephrased.\n",
        "        full_language (str): The full name or description of the language.\n",
        "\n",
        "    Returns:\n",
        "        str: The rephrased sentence.\n",
        "    \"\"\"\n",
        "    prompt = f\"Rephrase the following {full_language} sentence:\\n\\n\" + sentence + f\"\\n\\nRephrased {full_language} sentence:\"\n",
        "    response = openai.Completion.create(\n",
        "        engine=\"davinci\",\n",
        "        prompt=prompt,\n",
        "        max_tokens=len(sentence),\n",
        "        temperature=0.8,\n",
        "        n=1,\n",
        "        stop=None\n",
        "    )\n",
        "    rephrased_sentence = response.choices[0].text.strip().split('\\n')[0]\n",
        "    return rephrased_sentence\n",
        "\n",
        "# Example usage\n",
        "# sentence = \"माझं नाव आहे सोहिनी.\"\n",
        "# rephrased = rephrase_sentence(sentence, \"Marathi\")\n",
        "# print(f\"Original Sentence: {sentence}\")\n",
        "# print(f\"Rephrased Sentence: {rephrased}\")"
      ]
    },
    {
      "cell_type": "code",
      "source": [
        "'''\n",
        "Detect if the text is in the input lang\n",
        "'''\n",
        "\n",
        "def is_lang(text,input_lang):\n",
        "    try:\n",
        "        lang = detect(text)\n",
        "        if lang == input_lang:\n",
        "            return True  # Detected language is Marathi\n",
        "        else:\n",
        "            return False  # Detected language is not Marathi\n",
        "    except:\n",
        "        return False  # Failed to detect language"
      ],
      "metadata": {
        "id": "RL47YZRAoDiL"
      },
      "execution_count": null,
      "outputs": []
    },
    {
      "cell_type": "markdown",
      "source": [
        "### Calling it all together in the main function"
      ],
      "metadata": {
        "id": "Kdm76sLsm8SL"
      }
    },
    {
      "cell_type": "code",
      "execution_count": null,
      "metadata": {
        "id": "DyejvI94_5p1"
      },
      "outputs": [],
      "source": [
        "def call_rephrase(df, lang_token, full_language):\n",
        "    augmented = []\n",
        "    for index, row in df.iterrows():\n",
        "        print(index)\n",
        "        # Access the values of each column for the current row\n",
        "        sentence = row['text']\n",
        "        label = row['label']\n",
        "\n",
        "        # Loop until a rephrased sentence in the desired language is obtained\n",
        "        while True:\n",
        "            rephrased = rephrase_sentence(sentence, full_language)\n",
        "            if is_lang(rephrased, lang_token):\n",
        "                break  # Break out of the loop if the condition is met\n",
        "\n",
        "        # Remove the language tag from the rephrased sentence if present\n",
        "        if f\"Rephrased {full_language} sentence:\" in rephrased:\n",
        "            rephrased = rephrased.replace(f\"Rephrased {full_language} sentence:\", \"\")\n",
        "\n",
        "        augmented.append([rephrased, label])\n",
        "\n",
        "    new_df = pd.DataFrame(augmented, columns=df.columns)\n",
        "    df_new = df.append(new_df, ignore_index=True)\n",
        "    df_new = df_new.sample(frac=1)\n",
        "    df_new.to_csv('df_new.csv')"
      ]
    },
    {
      "cell_type": "code",
      "source": [
        "call_rephrase(df_test, 'mr','Marathi')"
      ],
      "metadata": {
        "colab": {
          "base_uri": "https://localhost:8080/"
        },
        "id": "4dfpj9NAWA2Z",
        "outputId": "aae33028-7487-4814-d614-2b1a08454a25"
      },
      "execution_count": null,
      "outputs": [
        {
          "output_type": "stream",
          "name": "stdout",
          "text": [
            "0\n",
            "1\n",
            "2\n",
            "3\n",
            "4\n"
          ]
        },
        {
          "output_type": "stream",
          "name": "stderr",
          "text": [
            "<ipython-input-7-79065d2670db>:17: FutureWarning: The frame.append method is deprecated and will be removed from pandas in a future version. Use pandas.concat instead.\n",
            "  df_new = df.append(new_df, ignore_index=True)\n"
          ]
        }
      ]
    },
    {
      "cell_type": "code",
      "source": [],
      "metadata": {
        "id": "SfzXSsTvZfVF"
      },
      "execution_count": null,
      "outputs": []
    }
  ],
  "metadata": {
    "colab": {
      "machine_shape": "hm",
      "provenance": [],
      "gpuType": "T4"
    },
    "kernelspec": {
      "display_name": "Python 3",
      "name": "python3"
    },
    "language_info": {
      "name": "python"
    }
  },
  "nbformat": 4,
  "nbformat_minor": 0
}