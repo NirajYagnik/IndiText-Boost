{
  "nbformat": 4,
  "nbformat_minor": 0,
  "metadata": {
    "colab": {
      "provenance": [],
      "gpuType": "T4"
    },
    "kernelspec": {
      "name": "python3",
      "display_name": "Python 3"
    },
    "language_info": {
      "name": "python"
    },
    "accelerator": "GPU",
    "gpuClass": "standard"
  },
  "cells": [
    {
      "cell_type": "markdown",
      "source": [
        "## Setup Libraries"
      ],
      "metadata": {
        "id": "JzsBuGz1i8NR"
      }
    },
    {
      "cell_type": "code",
      "source": [
        "import pandas as pd\n",
        "from sklearn.model_selection import train_test_split"
      ],
      "metadata": {
        "id": "IVWki7elsSWz"
      },
      "execution_count": null,
      "outputs": []
    },
    {
      "cell_type": "code",
      "source": [
        "df = pd.read_csv('dataset.csv')"
      ],
      "metadata": {
        "id": "LWa3GgMNH6Tb"
      },
      "execution_count": null,
      "outputs": []
    },
    {
      "cell_type": "code",
      "source": [
        "df['Label'].value_counts()"
      ],
      "metadata": {
        "colab": {
          "base_uri": "https://localhost:8080/"
        },
        "id": "XzFPjaKD5833",
        "outputId": "f6d68805-8899-4998-ef31-91d6dcc83018"
      },
      "execution_count": null,
      "outputs": [
        {
          "output_type": "execute_result",
          "data": {
            "text/plain": [
              "HATE    25\n",
              "NOT     25\n",
              "OFFN    25\n",
              "PRFN    25\n",
              "Name: Label , dtype: int64"
            ]
          },
          "metadata": {},
          "execution_count": 110
        }
      ]
    },
    {
      "cell_type": "code",
      "source": [
        "!pip install mtranslate"
      ],
      "metadata": {
        "colab": {
          "base_uri": "https://localhost:8080/"
        },
        "id": "_G2G0ZVWyxkE",
        "outputId": "5679009f-9d9d-4f25-f5bc-9a97a82bfdc8"
      },
      "execution_count": null,
      "outputs": [
        {
          "output_type": "stream",
          "name": "stdout",
          "text": [
            "Looking in indexes: https://pypi.org/simple, https://us-python.pkg.dev/colab-wheels/public/simple/\n",
            "Collecting mtranslate\n",
            "  Downloading mtranslate-1.8.tar.gz (2.4 kB)\n",
            "  Preparing metadata (setup.py) ... \u001b[?25l\u001b[?25hdone\n",
            "Building wheels for collected packages: mtranslate\n",
            "  Building wheel for mtranslate (setup.py) ... \u001b[?25l\u001b[?25hdone\n",
            "  Created wheel for mtranslate: filename=mtranslate-1.8-py3-none-any.whl size=3671 sha256=a56ec7b03c50e6296fc3430aeb383e4494f05347611bfca71a711111ad8f87f0\n",
            "  Stored in directory: /root/.cache/pip/wheels/c2/04/15/d7654c2c4a9a52e09922967593f3278fed66059be65ca671ea\n",
            "Successfully built mtranslate\n",
            "Installing collected packages: mtranslate\n",
            "Successfully installed mtranslate-1.8\n"
          ]
        }
      ]
    },
    {
      "cell_type": "markdown",
      "source": [
        "## Perform Back-Translation"
      ],
      "metadata": {
        "id": "vM1Ck3jJjTk4"
      }
    },
    {
      "cell_type": "code",
      "source": [
        "# Import the necessary libraries\n",
        "from mtranslate import translate\n",
        "\n",
        "\n",
        "# Define a translator object\n",
        "translator = Translator()\n",
        "\n",
        "# Define a function for back translation\n",
        "def back_trans(row, lang):\n",
        "    english_text = translate(row['Sentence'], 'en')\n",
        "    back_translation = translate(english_text, lang)\n",
        "    return back_translation, row['label']\n",
        "\n",
        "# Define a function to perform translation and create augmented data\n",
        "def call_translation(df, lang, task):\n",
        "    augmented_data = [back_trans(row, lang) for index, row in df.iterrows()]\n",
        "    new_df = pd.DataFrame(augmented_data, columns=['Sentence', 'label'])\n",
        "    df = df.append(new_df, ignore_index=True)\n",
        "    df = df.sample(frac=1, random_state=42).reset_index(drop=True)\n",
        "    title = f\"{lang}__{task}.csv\"\n",
        "    df.to_csv(title)\n",
        "\n",
        "# Specify the language and task\n",
        "lang = 'mr'\n",
        "task = 'hate_binary'\n",
        "\n",
        "# Call the translation function\n",
        "call_translation(df, lang, task)"
      ],
      "metadata": {
        "id": "uo_iCWIMiNAN"
      },
      "execution_count": null,
      "outputs": []
    }
  ]
}