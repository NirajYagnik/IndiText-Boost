{
  "cells": [
    {
      "cell_type": "markdown",
      "source": [
        "## Setup Libraries"
      ],
      "metadata": {
        "id": "Uo1ukJganbmM"
      }
    },
    {
      "cell_type": "code",
      "source": [
        "!pip install openai\n",
        "!pip install langdetect"
      ],
      "metadata": {
        "colab": {
          "base_uri": "https://localhost:8080/"
        },
        "id": "ipw-Wac0Yhbr",
        "outputId": "4ff5b33a-b241-4900-c8d9-d1e1bf4b2593"
      },
      "execution_count": null,
      "outputs": [
        {
          "output_type": "stream",
          "name": "stdout",
          "text": [
            "Looking in indexes: https://pypi.org/simple, https://us-python.pkg.dev/colab-wheels/public/simple/\n",
            "Collecting openai\n",
            "  Downloading openai-0.27.8-py3-none-any.whl (73 kB)\n",
            "\u001b[?25l     \u001b[90m━━━━━━━━━━━━━━━━━━━━━━━━━━━━━━━━━━━━━━━━\u001b[0m \u001b[32m0.0/73.6 kB\u001b[0m \u001b[31m?\u001b[0m eta \u001b[36m-:--:--\u001b[0m\r\u001b[2K     \u001b[90m━━━━━━━━━━━━━━━━━━━━━━━━━━━━━━━━━━━━━━━━\u001b[0m \u001b[32m73.6/73.6 kB\u001b[0m \u001b[31m3.1 MB/s\u001b[0m eta \u001b[36m0:00:00\u001b[0m\n",
            "\u001b[?25hRequirement already satisfied: requests>=2.20 in /usr/local/lib/python3.10/dist-packages (from openai) (2.27.1)\n",
            "Requirement already satisfied: tqdm in /usr/local/lib/python3.10/dist-packages (from openai) (4.65.0)\n",
            "Collecting aiohttp (from openai)\n",
            "  Downloading aiohttp-3.8.4-cp310-cp310-manylinux_2_17_x86_64.manylinux2014_x86_64.whl (1.0 MB)\n",
            "\u001b[2K     \u001b[90m━━━━━━━━━━━━━━━━━━━━━━━━━━━━━━━━━━━━━━━━\u001b[0m \u001b[32m1.0/1.0 MB\u001b[0m \u001b[31m22.3 MB/s\u001b[0m eta \u001b[36m0:00:00\u001b[0m\n",
            "\u001b[?25hRequirement already satisfied: urllib3<1.27,>=1.21.1 in /usr/local/lib/python3.10/dist-packages (from requests>=2.20->openai) (1.26.15)\n",
            "Requirement already satisfied: certifi>=2017.4.17 in /usr/local/lib/python3.10/dist-packages (from requests>=2.20->openai) (2022.12.7)\n",
            "Requirement already satisfied: charset-normalizer~=2.0.0 in /usr/local/lib/python3.10/dist-packages (from requests>=2.20->openai) (2.0.12)\n",
            "Requirement already satisfied: idna<4,>=2.5 in /usr/local/lib/python3.10/dist-packages (from requests>=2.20->openai) (3.4)\n",
            "Requirement already satisfied: attrs>=17.3.0 in /usr/local/lib/python3.10/dist-packages (from aiohttp->openai) (23.1.0)\n",
            "Collecting multidict<7.0,>=4.5 (from aiohttp->openai)\n",
            "  Downloading multidict-6.0.4-cp310-cp310-manylinux_2_17_x86_64.manylinux2014_x86_64.whl (114 kB)\n",
            "\u001b[2K     \u001b[90m━━━━━━━━━━━━━━━━━━━━━━━━━━━━━━━━━━━━━━\u001b[0m \u001b[32m114.5/114.5 kB\u001b[0m \u001b[31m12.6 MB/s\u001b[0m eta \u001b[36m0:00:00\u001b[0m\n",
            "\u001b[?25hCollecting async-timeout<5.0,>=4.0.0a3 (from aiohttp->openai)\n",
            "  Downloading async_timeout-4.0.2-py3-none-any.whl (5.8 kB)\n",
            "Collecting yarl<2.0,>=1.0 (from aiohttp->openai)\n",
            "  Downloading yarl-1.9.2-cp310-cp310-manylinux_2_17_x86_64.manylinux2014_x86_64.whl (268 kB)\n",
            "\u001b[2K     \u001b[90m━━━━━━━━━━━━━━━━━━━━━━━━━━━━━━━━━━━━━━\u001b[0m \u001b[32m268.8/268.8 kB\u001b[0m \u001b[31m26.1 MB/s\u001b[0m eta \u001b[36m0:00:00\u001b[0m\n",
            "\u001b[?25hCollecting frozenlist>=1.1.1 (from aiohttp->openai)\n",
            "  Downloading frozenlist-1.3.3-cp310-cp310-manylinux_2_5_x86_64.manylinux1_x86_64.manylinux_2_17_x86_64.manylinux2014_x86_64.whl (149 kB)\n",
            "\u001b[2K     \u001b[90m━━━━━━━━━━━━━━━━━━━━━━━━━━━━━━━━━━━━━━\u001b[0m \u001b[32m149.6/149.6 kB\u001b[0m \u001b[31m14.5 MB/s\u001b[0m eta \u001b[36m0:00:00\u001b[0m\n",
            "\u001b[?25hCollecting aiosignal>=1.1.2 (from aiohttp->openai)\n",
            "  Downloading aiosignal-1.3.1-py3-none-any.whl (7.6 kB)\n",
            "Installing collected packages: multidict, frozenlist, async-timeout, yarl, aiosignal, aiohttp, openai\n",
            "Successfully installed aiohttp-3.8.4 aiosignal-1.3.1 async-timeout-4.0.2 frozenlist-1.3.3 multidict-6.0.4 openai-0.27.8 yarl-1.9.2\n",
            "Looking in indexes: https://pypi.org/simple, https://us-python.pkg.dev/colab-wheels/public/simple/\n",
            "Collecting langdetect\n",
            "  Downloading langdetect-1.0.9.tar.gz (981 kB)\n",
            "\u001b[2K     \u001b[90m━━━━━━━━━━━━━━━━━━━━━━━━━━━━━━━━━━━━━━\u001b[0m \u001b[32m981.5/981.5 kB\u001b[0m \u001b[31m15.5 MB/s\u001b[0m eta \u001b[36m0:00:00\u001b[0m\n",
            "\u001b[?25h  Preparing metadata (setup.py) ... \u001b[?25l\u001b[?25hdone\n",
            "Requirement already satisfied: six in /usr/local/lib/python3.10/dist-packages (from langdetect) (1.16.0)\n",
            "Building wheels for collected packages: langdetect\n",
            "  Building wheel for langdetect (setup.py) ... \u001b[?25l\u001b[?25hdone\n",
            "  Created wheel for langdetect: filename=langdetect-1.0.9-py3-none-any.whl size=993224 sha256=c141a458c8b320e19accd8af38bf43732588c22310eca96f4fbdb3d887f5a144\n",
            "  Stored in directory: /root/.cache/pip/wheels/95/03/7d/59ea870c70ce4e5a370638b5462a7711ab78fba2f655d05106\n",
            "Successfully built langdetect\n",
            "Installing collected packages: langdetect\n",
            "Successfully installed langdetect-1.0.9\n"
          ]
        }
      ]
    },
    {
      "cell_type": "markdown",
      "source": [
        "### Import the libraries and the dataset"
      ],
      "metadata": {
        "id": "M6jlX1jCnmt8"
      }
    },
    {
      "cell_type": "code",
      "execution_count": null,
      "metadata": {
        "id": "A5Oss4bjUCpw"
      },
      "outputs": [],
      "source": [
        "import pandas as pd\n",
        "from tqdm import tqdm\n",
        "from langdetect import detect"
      ]
    },
    {
      "cell_type": "code",
      "source": [
        "df = pd.read_csv('dataset.csv')"
      ],
      "metadata": {
        "id": "arr3vLYwNzC8"
      },
      "execution_count": 2,
      "outputs": []
    },
    {
      "cell_type": "markdown",
      "source": [
        "### Define the call function to the API"
      ],
      "metadata": {
        "id": "OHGQFWZQnveM"
      }
    },
    {
      "cell_type": "code",
      "execution_count": null,
      "metadata": {
        "id": "T5jrOsXP1d1H"
      },
      "outputs": [],
      "source": [
        "# Set your OpenAI API key\n",
        "import openai\n",
        "openai.api_key = ''\n",
        "\n",
        "def generate_sentence(sentence, hate_text_1, hate_text_2, non_hate_text_1, non_hate_text_2, full_language, label=1):\n",
        "    \"\"\"\n",
        "    Generates an augmented sentence similar to the passed sentence for text classification,\n",
        "    with given examples of hate and non-hate texts.\n",
        "\n",
        "    Args:\n",
        "        sentence (str): The sentence to be augmented.\n",
        "        hate_text_1 (str): Example of a hate text.\n",
        "        hate_text_2 (str): Example of a hate text.\n",
        "        non_hate_text_1 (str): Example of a non-hate text.\n",
        "        non_hate_text_2 (str): Example of a non-hate text.\n",
        "        full_language (str): The full name or description of the language.\n",
        "        label (int, optional): The label of the augmented sentence. Defaults to 1.\n",
        "\n",
        "    Returns:\n",
        "        str: The augmented sentence.\n",
        "    \"\"\"\n",
        "    prompt_arr = [\n",
        "        f\"You are a {full_language} data augmentation model. You have to generate data for a text classification task. The sentence can be classified into two categories: hate and non-hate. I'll give two examples of each category, then pass a new sentence called to_augment and its label. You will need to generate a sentence similar to the passed to_augment sentence such that its label won't change:\\n\",\n",
        "        f\"Hate:\\n1. {hate_text_1}\\n2. {hate_text_2}\\n\",\n",
        "        f\"\\nNon-Hate:\\n1. {non_hate_text_1}\\n2. {non_hate_text_2}\\n\",\n",
        "        f\"\\nTo_Augment: {sentence}\\nLabel: {str(label)}\\n\\nThe Augmented Text is:\\n\"\n",
        "    ]\n",
        "    prompt = ''.join(prompt_arr)\n",
        "    print(prompt)\n",
        "    response = openai.Completion.create(\n",
        "        engine=\"davinci\",\n",
        "        prompt=prompt,\n",
        "        max_tokens=int(len(sentence) * 1.2),\n",
        "        temperature=0.75,\n",
        "        n=1,\n",
        "        stop=None\n",
        "    )\n",
        "    rephrased_sentence = response.choices[0].text.strip().split('\\n')[0]\n",
        "    return rephrased_sentence\n",
        "\n",
        "# Example usage\n",
        "# sentence = \"माझं नाव आहे सोहिनी.\"\n",
        "# rephrased = generate_sentence(sentence, \"Hate example 1\", \"Hate example 2\", \"Non-hate example 1\", \"Non-hate example 2\", \"Marathi\", label=1)\n",
        "# print(f\"Original Sentence: {sentence}\")\n",
        "# print(f\"Augmented Sentence: {rephrased}\")\n"
      ]
    },
    {
      "cell_type": "code",
      "source": [
        "# static examples for each class\n",
        "hate_text_1 = \"देशातील युवा #youtubevstiktok वर जेवढा आक्रमक झाला आहे तेवढा जर पायदळ जाणाऱ्या मजूरासाठी झाला असता तर सरकारला झक मारून मजुरांची सोय करुन द्यावी लागली असती. #मजदूर #म #\"\n",
        "hate_text_2 = \"@Avinashmule22 @mangeshspa नंबर घेतला ना बुल्ल्या कॉल कर ना गांडीत दम असेल तर\"\n",
        "non_hate_text_1 = \"@Liberal_India1 मग यावरून सिद्ध काय होतं ते सांग रताळ्या 😂🤣 निष्कर्ष न काढताच गोष्टी सांगायच्या नसतात\"\n",
        "non_hate_text_2 = \"@meNeeleshNRane आजपर्यंतचा सगळ्यात निष्क्रिय पालकमंत्री सिंधुदुर्ग जिल्ह्यातला म्हणजे दीपक केसरकर उर्फ काळतोंड्या याच्या राज्यात ना जिल्ह्याला इज्जत भेटत ना विकासाचे प्रकल्प\""
      ],
      "metadata": {
        "id": "x827Q4P9IgA0"
      },
      "execution_count": null,
      "outputs": []
    },
    {
      "cell_type": "code",
      "source": [
        "'''\n",
        "Detect if the text is in the input lang\n",
        "'''\n",
        "def is_lang(text,input_lang):\n",
        "    try:\n",
        "        lang = detect(text)\n",
        "        if lang == input_lang:\n",
        "            return True  # Detected language is Marathi\n",
        "        else:\n",
        "            return False  # Detected language is not Marathi\n",
        "    except:\n",
        "        return False  # Failed to detect language"
      ],
      "metadata": {
        "id": "RL47YZRAoDiL"
      },
      "execution_count": null,
      "outputs": []
    },
    {
      "cell_type": "markdown",
      "source": [
        "## Calling it all together in the main function"
      ],
      "metadata": {
        "id": "bQrff3H2ocLg"
      }
    },
    {
      "cell_type": "code",
      "execution_count": null,
      "metadata": {
        "id": "DyejvI94_5p1"
      },
      "outputs": [],
      "source": [
        "def call_rephrase(df, lang_token, full_language):\n",
        "    \"\"\"\n",
        "    Calls the rephrase function to generate augmented sentences for each row in the given DataFrame.\n",
        "\n",
        "    Args:\n",
        "        df (pandas.DataFrame): The DataFrame containing 'text' and 'label' columns.\n",
        "        lang_token: (str): The language token used to check the generated sentence's language.\n",
        "        full_language (str): The full name or description of the language.\n",
        "\n",
        "    Returns:\n",
        "        None\n",
        "    \"\"\"\n",
        "    augmented = []\n",
        "    for index, row in df.iterrows():\n",
        "        print(index)\n",
        "        # Access the values of each column for the current row\n",
        "        sentence = row['text']\n",
        "        label = row['label']\n",
        "        while True:\n",
        "            prompt = f\"Rephrase the following {full_language} sentence, without changing its sentiment:\\n\\n\" + sentence + f\"\\n\\nRephrased {full_language} sentence\"\n",
        "            generated = generate_sentence(prompt, full_language)\n",
        "            if is_lang(generated, lang_token):\n",
        "                break  # Break out of the loop if condition is not met\n",
        "        if f\"Generated {full_language} sentence:\" in generated:\n",
        "            generated.replace(f\"Generated {full_language} sentence:\", \"\")\n",
        "        augmented.append([generated, label])\n",
        "\n",
        "    new_df = pd.DataFrame(augmented, columns=df.columns)\n",
        "    df_new = df.append(new_df, ignore_index=True)\n",
        "    df_new = df_new.sample(frac=1)\n",
        "    df_new.to_csv('df_new.csv')\n",
        "\n",
        "# Example usage\n",
        "# call_rephrase(df, lang_token, full_language)"
      ]
    },
    {
      "cell_type": "code",
      "source": [
        "call_rephrase(df, 'mr','Marathi')"
      ],
      "metadata": {
        "colab": {
          "base_uri": "https://localhost:8080/"
        },
        "id": "4dfpj9NAWA2Z",
        "outputId": "f16337b9-bfbd-4173-f57d-f7935f89ed12"
      },
      "execution_count": null,
      "outputs": [
        {
          "output_type": "stream",
          "name": "stdout",
          "text": [
            "0\n",
            "1\n",
            "2\n",
            "3\n",
            "4\n"
          ]
        },
        {
          "output_type": "stream",
          "name": "stderr",
          "text": [
            "<ipython-input-26-afde4954e39f>:17: FutureWarning: The frame.append method is deprecated and will be removed from pandas in a future version. Use pandas.concat instead.\n",
            "  df_new = df.append(new_df, ignore_index=True)\n"
          ]
        }
      ]
    }
  ],
  "metadata": {
    "colab": {
      "machine_shape": "hm",
      "provenance": [],
      "gpuType": "T4"
    },
    "kernelspec": {
      "display_name": "Python 3",
      "name": "python3"
    },
    "language_info": {
      "name": "python"
    }
  },
  "nbformat": 4,
  "nbformat_minor": 0
}